{
 "cells": [
  {
   "cell_type": "markdown",
   "metadata": {},
   "source": [
    "#### Conventional Event Handling : where each event has a corresponding event-handling class"
   ]
  },
  {
   "cell_type": "markdown",
   "metadata": {},
   "source": [
    "- Four seperate handler classses\n",
    "- we throw away unhandled events - we could have passed None or Nothing as MouseHandler() argument\n",
    "- order in which we create them does not matter since each handles events only of the type it designed for"
   ]
  },
  {
   "cell_type": "markdown",
   "metadata": {},
   "source": [
    "The chain-of-responsibility pattern is structurally nearly identical to the decorator pattern, the difference being that for the decorator, all classes handle the request, while for the chain of responsibility, exactly one of the classes in the chain handles the request."
   ]
  },
  {
   "cell_type": "code",
   "execution_count": 11,
   "metadata": {},
   "outputs": [],
   "source": [
    "# sys module - This module provides access to some variables used or maintained by the interpreter and to functions that interact strongly with the interpreter. It is always available.\n",
    "# Pre-requesitie: pip install events (Python 3). an event is a “slot” where callback functions (event handlers) can be attached to - a process referred to as subscribing to an event.\n",
    "\n",
    "import sys\n",
    "from events import Events"
   ]
  },
  {
   "cell_type": "code",
   "execution_count": 19,
   "metadata": {
    "collapsed": true
   },
   "outputs": [],
   "source": [
    "def main():\n",
    "    print (\"Handler Chain #1\")\n",
    "    handler1 = TimerHandler(KeyHandler(MouseHandler(NullHandler())))\n",
    "    # this handler must be first in chain since it is used to eavesdrop on the events passing into the chainand to report them\n",
    "    # but not to handle them\n",
    "    handler2 = DebugHandler(handler1)\n",
    "    # we can pass None or nothing instead of null handler\n",
    "    # exit the loop and terminate the application if the event is TERMINATE\n",
    "    while True:\n",
    "        event = Events.next()\n",
    "        if event.kind == Events.TERMINATE:\n",
    "            break\n",
    "        handler1.handle(event)\n",
    "        handler2.handle(event) # for debugging purposes"
   ]
  },
  {
   "cell_type": "code",
   "execution_count": null,
   "metadata": {
    "collapsed": true
   },
   "outputs": [],
   "source": [
    "class NullHandler():\n",
    "    \n",
    "    \"\"\"\n",
    "        a) this class serves as a base class\n",
    "    \"\"\"\n",
    "    \n",
    "    def __init__(self, successor=None):\n",
    "        \"\"\" \n",
    "            Initializing a class attribute to None\n",
    "            __double_leading_underscore: when naming a class attribute, \n",
    "            invokes name mangling (inside class FooBar, __boo becomes _FooBar__boo; see below).\n",
    "            \n",
    "            __double_leading_underscore is still public, the variable is simply renamed to avoid a clash\n",
    "        \"\"\"\n",
    "        self.__successor = successor\n",
    "    \n",
    "    def handle(self,event):\n",
    "        # if we have not chose to discard the request, then we will pass to the successor in the chain\n",
    "        # if you want you can log or raise an error\n",
    "        if self.__successor is not None:\n",
    "            self.__successor.handle(event)\n",
    "\n",
    "class DebugHandler(NullHandler):\n",
    "    \n",
    "    \"\"\"\n",
    "        a) different from other handlers\n",
    "        b) it never handles any events and it must be first in the chain\n",
    "        c) it takes a file or file-like object to direct its report to,and when an event occurs, it reports the event and \n",
    "           passes it on\n",
    "    \"\"\"\n",
    "    \n",
    "    def __init__(self, successor = None, file = sys.stdout):\n",
    "        # short cut to initialize parent class along with the current subclass\n",
    "        super().__init__(successor)\n",
    "        self.__file = file\n",
    "    \n",
    "    def handle(self, event):\n",
    "        self.__file.write(\"*DEBUG*:{}\\n\".format(event))\n",
    "        # Super can be called upon in a single inheritance, in order to refer to the parent class or multiple classes without explicitly naming them. It’s somewhat of a shortcut, but more importantly, it helps keep your code maintainable for the foreseeable future.\n",
    "        super().handle(event)\n",
    "\n",
    "class MouseHandler(NullHandler):\n",
    "    \n",
    "    \"\"\"\n",
    "        note that __init__ is not re-implemented. self.__successor variable will be correctly created\n",
    "        this handler class handles only those events that it is interested in MOUSE and passes any other events in the chain\n",
    "    \"\"\"\n",
    "    def handle(self, event):\n",
    "        if event.kind == Events.MOUSE:\n",
    "            print(\"Click:{}\".format(event))\n",
    "        else:\n",
    "            super().handle(event)\n",
    "            \n",
    "class KeyHandler(NullHandler):\n",
    "    \n",
    "    def handle(self, event):\n",
    "        if event.kind == Events.KEYPRESS:\n",
    "            print(\"Press: {}\".format(event))\n",
    "        else:\n",
    "            super().handle(event)\n",
    "\n",
    "class TimerHandler(NullHandler):\n",
    "    \n",
    "    def handle(self, event):\n",
    "        if event.kind == Events.TIMER:\n",
    "            print (\"Timeout:{}\".format(event))\n",
    "        else:\n",
    "            super.handle(event)\n",
    "\n",
    "if __name__ == \"__main__\":\n",
    "    main()"
   ]
  }
 ],
 "metadata": {
  "kernelspec": {
   "display_name": "Python 3",
   "language": "python",
   "name": "python3"
  },
  "language_info": {
   "codemirror_mode": {
    "name": "ipython",
    "version": 3
   },
   "file_extension": ".py",
   "mimetype": "text/x-python",
   "name": "python",
   "nbconvert_exporter": "python",
   "pygments_lexer": "ipython3",
   "version": "3.5.3"
  }
 },
 "nbformat": 4,
 "nbformat_minor": 2
}
